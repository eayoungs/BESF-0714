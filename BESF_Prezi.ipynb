{
 "metadata": {
  "name": "",
  "signature": "sha256:7e88a92279d89702983b4a8b63f6a273f202a4e4812efb6b15cbd5772f9b68df"
 },
 "nbformat": 3,
 "nbformat_minor": 0,
 "worksheets": [
  {
   "cells": [
    {
     "cell_type": "code",
     "collapsed": false,
     "input": [
      "from eppy import modeleditor\n"
     ],
     "language": "python",
     "metadata": {},
     "outputs": []
    }
   ],
   "metadata": {}
  }
 ]
}