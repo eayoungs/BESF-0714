{
 "metadata": {
  "name": "",
  "signature": "sha256:dec3dc43f56fa6568974a4752100b8ea0b9152f872c1f7572177d51778e88fb3"
 },
 "nbformat": 3,
 "nbformat_minor": 0,
 "worksheets": [
  {
   "cells": [
    {
     "cell_type": "code",
     "collapsed": false,
     "input": [
      "import sys\n",
      "\n",
      "pathnameto_eppy = '/Applications/eppy-0.4.6'\n",
      "sys.path.append(pathnameto_eppy)\n",
      "\n",
      "from eppy import modeleditor\n",
      "from eppy.modeleditor import IDF\n",
      "iddfile = \"/Applications/EnergyPlus-8-0-0/Energy+.idd\"\n",
      "fname1 = 'TypOffice.idf'\n",
      "\n",
      "# IDF.setiddname(iddfile) # This only needs to be run the first time through\n",
      "idf1 = IDF(fname1)\n",
      "\n",
      "print idf1.idfobjects['BUILDINGSURFACE:DETAILED'][0]"
     ],
     "language": "python",
     "metadata": {},
     "outputs": [
      {
       "output_type": "stream",
       "stream": "stdout",
       "text": [
        "this node -MATERIALPROPERTY:PHASECHANGEDUALCURVE-is not present in base dictionary\n",
        "this node -MATERIALPROPERTY:PHASECHANGEDUALCURVE-is not present in base dictionary\n",
        "this node -MATERIALPROPERTY:PHASECHANGEDUALCURVE-is not present in base dictionary\n",
        "this node -MATERIALPROPERTY:PHASECHANGEDUALCURVE-is not present in base dictionary\n",
        "this node -MATERIALPROPERTY:PHASECHANGEDUALCURVE-is not present in base dictionary\n",
        "this node -MATERIALPROPERTY:PHASECHANGEDUALCURVE-is not present in base dictionary\n",
        "\n",
        "BuildingSurface:Detailed, \n",
        "    StreetLevel:East_Floor_0_0_10000,    !- Name\n",
        "    Floor,                    !- Surface Type\n",
        "    InteriorFloor,            !- Construction Name\n",
        "    StreetLevel:East,         !- Zone Name\n",
        "    Surface,                  !- Outside Boundary Condition\n",
        "    StreetLevel:East_Floor_0_0_10000,    !- Outside Boundary Condition Object\n",
        "    NoSun,                    !- Sun Exposure\n",
        "    NoWind,                   !- Wind Exposure\n",
        "    0.0,                      !- View Factor to Ground\n",
        "    4,                        !- Number of Vertices\n",
        "    -0.57390226,              !- Vertex 1 Xcoordinate\n",
        "    -21.11276285,             !- Vertex 1 Ycoordinate\n",
        "    0.0,                      !- Vertex 1 Zcoordinate\n",
        "    -5.14590226,              !- Vertex 2 Xcoordinate\n",
        "    -16.54076285,             !- Vertex 2 Ycoordinate\n",
        "    0.0,                      !- Vertex 2 Zcoordinate\n",
        "    -5.14590226,              !- Vertex 3 Xcoordinate\n",
        "    -4.90547157,              !- Vertex 3 Ycoordinate\n",
        "    0.0,                      !- Vertex 3 Zcoordinate\n",
        "    -0.57390226,              !- Vertex 4 Xcoordinate\n",
        "    -0.33347157,              !- Vertex 4 Ycoordinate\n",
        "    0.0;                      !- Vertex 4 Zcoordinate\n"
       ]
      },
      {
       "output_type": "stream",
       "stream": "stdout",
       "text": [
        "\n"
       ]
      }
     ],
     "prompt_number": 4
    },
    {
     "cell_type": "code",
     "collapsed": false,
     "input": [],
     "language": "python",
     "metadata": {},
     "outputs": [],
     "prompt_number": 2
    }
   ],
   "metadata": {}
  }
 ]
}