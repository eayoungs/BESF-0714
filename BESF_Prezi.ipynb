{
 "metadata": {
  "name": "",
  "signature": "sha256:ac9f3ddc6b60359970520c79237c976fccd233ab6f4c55d6dc7ad320a3d0b93b"
 },
 "nbformat": 3,
 "nbformat_minor": 0,
 "worksheets": [
  {
   "cells": [
    {
     "cell_type": "code",
     "collapsed": false,
     "input": [
      "import sys\n",
      "\n",
      "pathnameto_eppy = '/Applications/eppy-0.4.6'\n",
      "sys.path.append(pathnameto_eppy)\n",
      "\n",
      "from eppy import modeleditor\n",
      "from eppy.modeleditor import IDF\n",
      "iddfile = \"/Applications/EnergyPlus-8-0-0/Energy+.idd\"\n",
      "fname1 = 'SimpleAverageOffice.idf'\n",
      "\n",
      "# IDF.setiddname(iddfile) # This only needs to be run the first time through\n",
      "idf1 = IDF(fname1)\n",
      "\n",
      "print idf1.idfobjects['BUILDINGSURFACE:DETAILED'][0]"
     ],
     "language": "python",
     "metadata": {},
     "outputs": [
      {
       "output_type": "stream",
       "stream": "stdout",
       "text": [
        "\n",
        "BuildingSurface:Detailed, \n",
        "    Basement:Zone_GroundFloor_0_0_0,    !- Name\n",
        "    Floor,                    !- Surface Type\n",
        "    Project ground floor,     !- Construction Name\n",
        "    Basement:Zone,            !- Zone Name\n",
        "    Ground,                   !- Outside Boundary Condition\n",
        "    ,                         !- Outside Boundary Condition Object\n",
        "    NoSun,                    !- Sun Exposure\n",
        "    NoWind,                   !- Wind Exposure\n",
        "    1.0,                      !- View Factor to Ground\n",
        "    4,                        !- Number of Vertices\n",
        "    -0.5739022632,            !- Vertex 1 Xcoordinate\n",
        "    -21.112762853,            !- Vertex 1 Ycoordinate\n",
        "    -3.5,                     !- Vertex 1 Zcoordinate\n",
        "    -21.3531935433,           !- Vertex 2 Xcoordinate\n",
        "    -21.112762853,            !- Vertex 2 Ycoordinate\n",
        "    -3.5,                     !- Vertex 2 Zcoordinate\n",
        "    -21.3531935433,           !- Vertex 3 Xcoordinate\n",
        "    -0.3334715729,            !- Vertex 3 Ycoordinate\n",
        "    -3.5,                     !- Vertex 3 Zcoordinate\n",
        "    -0.5739022632,            !- Vertex 4 Xcoordinate\n",
        "    -0.3334715729,            !- Vertex 4 Ycoordinate\n",
        "    -3.5;                     !- Vertex 4 Zcoordinate\n",
        "\n"
       ]
      }
     ],
     "prompt_number": 3
    },
    {
     "cell_type": "code",
     "collapsed": false,
     "input": [],
     "language": "python",
     "metadata": {},
     "outputs": []
    }
   ],
   "metadata": {}
  }
 ]
}