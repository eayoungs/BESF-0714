{
 "metadata": {
  "name": "",
  "signature": "sha256:cec84e1297f58b6933e2def56369bfb5a9e91c6971a9ed126f4f212f6e9ea379"
 },
 "nbformat": 3,
 "nbformat_minor": 0,
 "worksheets": [
  {
   "cells": [
    {
     "cell_type": "code",
     "collapsed": false,
     "input": [
      "import sys\n",
      "\n",
      "pathnameto_eppy = '/Applications/eppy-0.4.6'\n",
      "sys.path.append(pathnameto_eppy)\n",
      "\n",
      "from eppy import modeleditor\n",
      "from eppy.modeleditor import IDF\n",
      "iddfile = \"/Applications/EnergyPlus-8-0-0/Energy+.idd\"\n",
      "fname1 = 'Ikoi-So_Terrace.idf'\n",
      "\n",
      "IDF.setiddname(iddfile) # This only needs to be run the first time through\n",
      "idf1 = IDF(fname1)\n",
      "\n",
      "print idf1.idfobjects['BUILDINGSURFACE:DETAILED'][0]"
     ],
     "language": "python",
     "metadata": {},
     "outputs": [
      {
       "output_type": "stream",
       "stream": "stdout",
       "text": [
        "\n",
        "BuildingSurface:Detailed, \n",
        "    Surface 115,              !- Name\n",
        "    Wall,                     !- Surface Type\n",
        "    Composite 2x4 Wood Stud R11,    !- Construction Name\n",
        "    Attic-ZN,                 !- Zone Name\n",
        "    Outdoors,                 !- Outside Boundary Condition\n",
        "    ,                         !- Outside Boundary Condition Object\n",
        "    SunExposed,               !- Sun Exposure\n",
        "    WindExposed,              !- Wind Exposure\n",
        "    ,                         !- View Factor to Ground\n",
        "    ,                         !- Number of Vertices\n",
        "    6.49720277579e-15,        !- Vertex 1 Xcoordinate\n",
        "    -2.8956,                  !- Vertex 1 Ycoordinate\n",
        "    2.54,                     !- Vertex 1 Zcoordinate\n",
        "    8.66293703439e-15,        !- Vertex 2 Xcoordinate\n",
        "    -2.8956,                  !- Vertex 2 Ycoordinate\n",
        "    -1.23107739603e-30,       !- Vertex 2 Zcoordinate\n",
        "    -7.62,                    !- Vertex 3 Xcoordinate\n",
        "    -2.8956,                  !- Vertex 3 Ycoordinate\n",
        "    0.0;                      !- Vertex 3 Zcoordinate\n",
        "\n"
       ]
      }
     ],
     "prompt_number": 1
    },
    {
     "cell_type": "code",
     "collapsed": false,
     "input": [],
     "language": "python",
     "metadata": {},
     "outputs": []
    }
   ],
   "metadata": {}
  }
 ]
}