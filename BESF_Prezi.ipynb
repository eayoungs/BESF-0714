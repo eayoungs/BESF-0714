{
 "metadata": {
  "name": "",
  "signature": "sha256:81957173202c0a78cc79ff49309ee335145f6c0720a34511cf7ee58716d56a41"
 },
 "nbformat": 3,
 "nbformat_minor": 0,
 "worksheets": [
  {
   "cells": [
    {
     "cell_type": "code",
     "collapsed": false,
     "input": [
      "import sys\n",
      "\n",
      "pathnameto_eppy = '/Applications/eppy-0.4.6'\n",
      "sys.path.append(pathnameto_eppy)\n",
      "\n",
      "from eppy import modeleditor\n",
      "from eppy.modeleditor import IDF\n",
      "\n",
      "iddfile = \"/Applications/EnergyPlus-8-0-0/Energy+.idd\"\n",
      "IDF.setiddname(iddfile)\n",
      "\n",
      "simFileName = \"SimpleAverageOffice.idf\"\n",
      "simFile = IDF(simFileName)\n",
      "\n",
      "simFile.printidf()"
     ],
     "language": "python",
     "metadata": {},
     "outputs": []
    }
   ],
   "metadata": {}
  }
 ]
}